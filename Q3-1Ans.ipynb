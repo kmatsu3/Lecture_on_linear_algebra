{
 "cells": [
  {
   "cell_type": "code",
   "execution_count": 9,
   "metadata": {
    "collapsed": true
   },
   "outputs": [],
   "source": [
    "import numpy as np\n",
    "import matplotlib.pyplot as plt\n",
    "\n",
    "fig=plt.figure(figsize=(12,12),facecolor='w')\n",
    "xmin=-1.2; xmax=1.2\n",
    "ymin=-1.2; ymax=1.2\n",
    "\n",
    "plt.subplot(121)\n",
    "plt.xlim([xmin,xmax])\n",
    "plt.ylim([ymin,ymax])\n",
    "plt.quiver(1,0, color='#0000ff',angles='xy',scale_units='xy',scale=1,headwidth=6)\n",
    "plt.quiver(0,1, color='#00ff00',angles='xy',scale_units='xy',scale=1,headwidth=6)\n",
    "plt.quiver(1,1, color='#00ffff',angles='xy',scale_units='xy',scale=1,headwidth=6)\n",
    "plt.quiver(-1,1, color='#ff00ff',angles='xy',scale_units='xy',scale=1,headwidth=6)\n",
    "plt.text(1,0,\"a_1\",fontsize=20, color='#0000ff')\n",
    "plt.text(0,1,\"a_2\",fontsize=20, color='#00ff00')\n",
    "plt.text(1,1,\"b_1\",fontsize=20, color='#00ffff')\n",
    "plt.text(-1,1,\"b_2\",fontsize=20, color='#ff00ff')\n",
    "plt.xlabel(\"x\",fontsize=20)\n",
    "plt.ylabel(\"y\",fontsize=20)\n",
    "plt.tick_params(labelsize = 20)\n",
    "plt.grid()\n",
    "plt.draw()\n",
    "plt.gca().set_aspect('equal', adjustable='box')\n",
    "plt.savefig('E3-1-2Ans.eps')\n",
    "plt.show()"
   ]
  },
  {
   "cell_type": "code",
   "execution_count": 8,
   "metadata": {
    "collapsed": true
   },
   "outputs": [],
   "source": [
    "import numpy as np\n",
    "import matplotlib.pyplot as plt\n",
    "\n",
    "fig=plt.figure(figsize=(12,12),facecolor='w')\n",
    "xmin=-1.2; xmax=1.2\n",
    "ymin=-1.2; ymax=1.2\n",
    "\n",
    "plt.subplot(121)\n",
    "plt.xlim([xmin,xmax])\n",
    "plt.ylim([ymin,ymax])\n",
    "plt.quiver(1,0, color='#0000ff',angles='xy',scale_units='xy',scale=1,headwidth=6)\n",
    "plt.quiver(0,1, color='#00ff00',angles='xy',scale_units='xy',scale=1,headwidth=6)\n",
    "plt.quiver(1,1, color='#00ffff',angles='xy',scale_units='xy',scale=1,headwidth=6)\n",
    "plt.quiver(1,1, color='#ff0000',angles='xy',scale_units='xy',scale=1,width=0.02, headwidth=3)\n",
    "plt.quiver(-1,1, color='#ff00ff',angles='xy',scale_units='xy',scale=1,headwidth=6)\n",
    "plt.text(1,0,\"a_1\",fontsize=20, color='#0000ff')\n",
    "plt.text(0,1,\"a_2\",fontsize=20, color='#00ff00')\n",
    "plt.text(1,1,\"b_1\",fontsize=20, color='#00ffff')\n",
    "plt.text(1,1,\"c\",fontsize=20, color='#ff0000')\n",
    "plt.text(-1,1,\"b_2\",fontsize=20, color='#ff00ff')\n",
    "plt.xlabel(\"x\",fontsize=20)\n",
    "plt.ylabel(\"y\",fontsize=20)\n",
    "plt.tick_params(labelsize = 20)\n",
    "plt.grid()\n",
    "plt.draw()\n",
    "plt.gca().set_aspect('equal', adjustable='box')\n",
    "plt.savefig('E3-1-4Ans.eps')\n",
    "plt.show()"
   ]
  },
  {
   "cell_type": "code",
   "execution_count": null,
   "metadata": {
    "collapsed": true
   },
   "outputs": [],
   "source": []
  }
 ],
 "metadata": {
  "kernelspec": {
   "display_name": "Python 3",
   "language": "python",
   "name": "python3"
  },
  "language_info": {
   "codemirror_mode": {
    "name": "ipython",
    "version": 3
   },
   "file_extension": ".py",
   "mimetype": "text/x-python",
   "name": "python",
   "nbconvert_exporter": "python",
   "pygments_lexer": "ipython3",
   "version": "3.5.2"
  }
 },
 "nbformat": 4,
 "nbformat_minor": 0
}

{
 "cells": [
  {
   "cell_type": "code",
   "execution_count": 3,
   "metadata": {
    "collapsed": true
   },
   "outputs": [],
   "source": [
    "import numpy as np\n",
    "import matplotlib.pyplot as plt\n",
    "\n",
    "fig=plt.figure(figsize=(12,12),facecolor='w')\n",
    "xmin=-1.2; xmax=1.2\n",
    "ymin=-1.2; ymax=1.2\n",
    "\n",
    "plt.subplot(121)\n",
    "plt.xlim([xmin,xmax])\n",
    "plt.ylim([ymin,ymax])\n",
    "plt.quiver(1,1, color='#0000ff',angles='xy',scale_units='xy',scale=1,headwidth=6)\n",
    "plt.quiver(1,0, color='#0000ff',angles='xy',scale_units='xy',scale=1,headwidth=6)\n",
    "plt.quiver(1/np.sqrt(2),1/np.sqrt(2), color='#ff0000',angles='xy',scale_units='xy',scale=1,headwidth=6)\n",
    "plt.quiver(1/np.sqrt(2),-1/np.sqrt(2), color='#ff0000',angles='xy',scale_units='xy',scale=1,headwidth=6)\n",
    "plt.text(1,1,\"a_1\",fontsize=20, color='#0000ff')\n",
    "plt.text(1,0,\"a_2\",fontsize=20, color='#0000ff')\n",
    "plt.text(1/np.sqrt(2),1/np.sqrt(2),\"u_1\",fontsize=20, color='#ff0000')\n",
    "plt.text(1/np.sqrt(2),-1/np.sqrt(2),\"u_2\",fontsize=20, color='#ff0000')\n",
    "plt.xlabel(\"x\",fontsize=20)\n",
    "plt.ylabel(\"y\",fontsize=20)\n",
    "plt.tick_params(labelsize = 20)\n",
    "plt.grid()\n",
    "plt.draw()\n",
    "plt.gca().set_aspect('equal', adjustable='box')\n",
    "plt.savefig('Q3-2-1Ans.eps')\n",
    "plt.show()"
   ]
  },
  {
   "cell_type": "code",
   "execution_count": 4,
   "metadata": {
    "collapsed": false
   },
   "outputs": [],
   "source": [
    "import numpy as np\n",
    "import matplotlib.pyplot as plt\n",
    "\n",
    "fig=plt.figure(figsize=(12,12),facecolor='w')\n",
    "xmin=-1.2; xmax=2.2\n",
    "ymin=-1.2; ymax=1.7\n",
    "\n",
    "plt.subplot(121)\n",
    "plt.xlim([xmin,xmax])\n",
    "plt.ylim([ymin,ymax])\n",
    "plt.quiver(1,1, color='#0000ff',angles='xy',scale_units='xy',scale=1,headwidth=6)\n",
    "plt.quiver(1,0, color='#0000ff',angles='xy',scale_units='xy',scale=1,headwidth=6)\n",
    "plt.quiver(1/np.sqrt(2),1/np.sqrt(2), color='#ff0000',angles='xy',scale_units='xy',scale=1,headwidth=6)\n",
    "plt.quiver(1/np.sqrt(2),-1/np.sqrt(2), color='#ff0000',angles='xy',scale_units='xy',scale=1,headwidth=6)\n",
    "plt.quiver(2,1, color='#00ff00',angles='xy',scale_units='xy',scale=1,headwidth=6)\n",
    "plt.plot([2, 1], [1, 1], ':', color='#0000ff')\n",
    "plt.plot([2, 1], [1, 0], ':', color='#0000ff')\n",
    "plt.plot([2, 3/2], [1, 3/2], ':', color='#ff0000')\n",
    "plt.plot([2, 1/2], [1, -1/2], ':', color='#ff0000')\n",
    "plt.text(1,1,\"a_1\",fontsize=20, color='#0000ff')\n",
    "plt.text(1,0,\"a_2\",fontsize=20, color='#0000ff')\n",
    "plt.text(1/np.sqrt(2),1/np.sqrt(2),\"u_1\",fontsize=20, color='#ff0000')\n",
    "plt.text(1/np.sqrt(2),-1/np.sqrt(2),\"u_2\",fontsize=20, color='#ff0000')\n",
    "plt.text(2,1.1,\"a_1+a_2\",fontsize=20, color='#0000ff')\n",
    "plt.text(2,0.5,\"3√2u_1/2 \\n + √2u_2/2\",fontsize=20, color='#ff0000')\n",
    "plt.xlabel(\"x\",fontsize=20)\n",
    "plt.ylabel(\"y\",fontsize=20)\n",
    "plt.tick_params(labelsize = 20)\n",
    "plt.grid()\n",
    "plt.draw()\n",
    "plt.gca().set_aspect('equal', adjustable='box')\n",
    "plt.savefig('Q3-2-2Ans.eps')\n",
    "plt.show()"
   ]
  },
  {
   "cell_type": "code",
   "execution_count": null,
   "metadata": {
    "collapsed": true
   },
   "outputs": [],
   "source": []
  },
  {
   "cell_type": "code",
   "execution_count": null,
   "metadata": {
    "collapsed": true
   },
   "outputs": [],
   "source": []
  }
 ],
 "metadata": {
  "kernelspec": {
   "display_name": "Python 3",
   "language": "python",
   "name": "python3"
  },
  "language_info": {
   "codemirror_mode": {
    "name": "ipython",
    "version": 3
   },
   "file_extension": ".py",
   "mimetype": "text/x-python",
   "name": "python",
   "nbconvert_exporter": "python",
   "pygments_lexer": "ipython3",
   "version": "3.5.2"
  }
 },
 "nbformat": 4,
 "nbformat_minor": 0
}

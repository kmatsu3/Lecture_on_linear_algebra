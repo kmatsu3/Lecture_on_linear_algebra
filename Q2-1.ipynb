{
 "cells": [
  {
   "cell_type": "code",
   "execution_count": 14,
   "metadata": {
    "collapsed": true
   },
   "outputs": [],
   "source": [
    "import numpy as np\n",
    "import matplotlib.pyplot as plt\n",
    "\n",
    "fig=plt.figure(figsize=(12,6),facecolor='w')\n",
    "xmin=-1.5; xmax=1.5\n",
    "ymin=-1.5; ymax=1.5\n",
    "\n",
    "plt.subplot(121)\n",
    "plt.xlim([xmin,xmax])\n",
    "plt.ylim([ymin,ymax])\n",
    "plt.quiver(1,0, color='#0000ff',angles='xy',scale_units='xy',scale=1,headwidth=6)\n",
    "plt.quiver(0,1, color='#ff0000',angles='xy',scale_units='xy',scale=1,width=0.005,headwidth=6)\n",
    "plt.text(1,0,\"a_1\",fontsize=20, color='#0000ff')\n",
    "plt.text(0,1,\"a_2\",fontsize=20, color='#ff0000')\n",
    "plt.xlabel(\"x\",fontsize=20)\n",
    "plt.ylabel(\"y\",fontsize=20)\n",
    "plt.tick_params(labelsize = 20)\n",
    "plt.subplots_adjust(left=0.07, right=0.99, top=0.99, bottom=0.1)\n",
    "plt.grid()\n",
    "plt.draw()\n",
    "plt.gca().set_aspect('equal', adjustable='box')\n",
    "plt.savefig('Q2-1-1Ans.eps')\n",
    "plt.show()"
   ]
  },
  {
   "cell_type": "code",
   "execution_count": 16,
   "metadata": {
    "collapsed": true
   },
   "outputs": [],
   "source": [
    "from mpl_toolkits.mplot3d import Axes3D\n",
    "import matplotlib.pyplot as plt\n",
    "import numpy as np\n",
    "\n",
    "#範囲と間隔の設定\n",
    "fig = plt.figure()\n",
    "ax = Axes3D(fig)\n",
    "\n",
    "x = np.arange(-1, 1, 0.25)\n",
    "y = np.arange(-1, 1, 0.25)\n",
    "X, Y = np.meshgrid(x, y)\n",
    "Z = (1)*X+ -1*(Y)\n",
    "\n",
    "ax.plot_wireframe(X,Y,Z,color=\"#888888\") \n",
    "\n",
    "\n",
    "LX, LY, LZ = 1.5,1.5,1.5  # xyzメッシュのパラメータ\n",
    "gridwidth=1.0 # \n",
    "\n",
    "ax.quiver(0, 0, 0, 1, 0, 1, color='blue', pivot='tail', length=np.sqrt(2), arrow_length_ratio=0.2)\n",
    "ax.text(1,0,1,\"a_1\",fontsize=20, color='blue')\n",
    "ax.quiver(0, 0, 0, 0, -1, 1, color='red', pivot='tail', length=np.sqrt(2), arrow_length_ratio=0.1)\n",
    "ax.text(0,-1,1,\"a_2\",fontsize=20, color='red')\n",
    "ax.quiver(0, 0, 0, 1, 1, 0, color='green', pivot='tail', length=np.sqrt(2), arrow_length_ratio=0.2)\n",
    "ax.text(1,1,0,\"a_3\",fontsize=20, color='green')\n",
    "ax.plot([5, 4], [1, -2], [3, 2], ':')\n",
    "ax.set_xlim([-LX, LX])\n",
    "ax.set_ylim([-LY, LY])\n",
    "ax.set_zlim([-LZ, LZ])\n",
    "ax.set_xlabel('x',fontsize =20)\n",
    "ax.set_ylabel('y',fontsize =20)\n",
    "ax.set_zlabel('z',fontsize =20)\n",
    "plt.tick_params(labelsize = 20)\n",
    "ax.set_aspect('equal')\n",
    "ax.view_init(40.0, -50.0)\n",
    "plt.savefig('Q2-1-2Ans.eps')\n",
    "\n",
    "plt.show()"
   ]
  },
  {
   "cell_type": "code",
   "execution_count": 21,
   "metadata": {
    "collapsed": false
   },
   "outputs": [],
   "source": [
    "import numpy as np\n",
    "import matplotlib.pyplot as plt\n",
    "\n",
    "fig=plt.figure(figsize=(12,6),facecolor='w')\n",
    "xmin=-1.5; xmax=1.5\n",
    "ymin=-1.5; ymax=1.5\n",
    "\n",
    "plt.subplot(121)\n",
    "plt.xlim([xmin,xmax])\n",
    "plt.ylim([ymin,ymax])\n",
    "plt.quiver(1,0, color='#0000ff',angles='xy',scale_units='xy',scale=1,width=0.005,headwidth=6)\n",
    "plt.quiver(0,1, color='#ff0000',angles='xy',scale_units='xy',scale=1,width=0.005,headwidth=6)\n",
    "plt.quiver(1,1, color='#00ff00',angles='xy',scale_units='xy',scale=1,width=0.005,headwidth=6)\n",
    "plt.quiver(-1,1, color='#ff00ff',angles='xy',scale_units='xy',scale=1,width=0.005,headwidth=6)\n",
    "plt.text(1,0,\"a_1\",fontsize=20, color='#0000ff')\n",
    "plt.text(0,1,\"a_2\",fontsize=20, color='#ff0000')\n",
    "plt.text(1,1,\"a_3\",fontsize=20, color='#00ff00')\n",
    "plt.text(-1,1,\"a_4\",fontsize=20, color='#ff00ff')\n",
    "plt.xlabel(\"x\",fontsize=20)\n",
    "plt.ylabel(\"y\",fontsize=20)\n",
    "plt.tick_params(labelsize = 20)\n",
    "plt.subplots_adjust(left=0.07, right=0.99, top=0.99, bottom=0.1)\n",
    "plt.grid()\n",
    "plt.draw()\n",
    "plt.gca().set_aspect('equal', adjustable='box')\n",
    "plt.savefig('Q2-2-1Ans.eps')\n",
    "plt.show()"
   ]
  },
  {
   "cell_type": "code",
   "execution_count": null,
   "metadata": {
    "collapsed": true
   },
   "outputs": [],
   "source": [
    "import numpy as np\n",
    "import matplotlib.pyplot as plt\n",
    "\n",
    "fig=plt.figure(figsize=(12,6),facecolor='w')\n",
    "xmin=-1.5; xmax=1.5\n",
    "ymin=-1.5; ymax=1.5\n",
    "\n",
    "plt.subplot(121)\n",
    "plt.xlim([xmin,xmax])\n",
    "plt.ylim([ymin,ymax])\n",
    "plt.quiver(1,0, color='#0000ff',angles='xy',scale_units='xy',scale=1,width=0.005,headwidth=6)\n",
    "plt.quiver(0,1, color='#ff0000',angles='xy',scale_units='xy',scale=1,width=0.005,headwidth=6)\n",
    "plt.quiver(1,1, color='#00ff00',angles='xy',scale_units='xy',scale=1,width=0.005,headwidth=6)\n",
    "plt.quiver(-1,1, color='#ff00ff',angles='xy',scale_units='xy',scale=1,width=0.005,headwidth=6)\n",
    "plt.text(1,0,\"a_1\",fontsize=20, color='#0000ff')\n",
    "plt.text(0,1,\"a_2\",fontsize=20, color='#ff0000')\n",
    "plt.text(1,1,\"a_3\",fontsize=20, color='#00ff00')\n",
    "plt.text(-1,1,\"a_4\",fontsize=20, color='#ff00ff')\n",
    "plt.xlabel(\"x\",fontsize=20)\n",
    "plt.ylabel(\"y\",fontsize=20)\n",
    "plt.tick_params(labelsize = 20)\n",
    "plt.subplots_adjust(left=0.07, right=0.99, top=0.99, bottom=0.1)\n",
    "plt.grid()\n",
    "plt.draw()\n",
    "plt.gca().set_aspect('equal', adjustable='box')\n",
    "plt.savefig('Q2-2-5Ans.eps')\n",
    "plt.show()"
   ]
  },
  {
   "cell_type": "code",
   "execution_count": null,
   "metadata": {
    "collapsed": true
   },
   "outputs": [],
   "source": []
  }
 ],
 "metadata": {
  "kernelspec": {
   "display_name": "Python 3",
   "language": "python",
   "name": "python3"
  },
  "language_info": {
   "codemirror_mode": {
    "name": "ipython",
    "version": 3
   },
   "file_extension": ".py",
   "mimetype": "text/x-python",
   "name": "python",
   "nbconvert_exporter": "python",
   "pygments_lexer": "ipython3",
   "version": "3.5.2"
  }
 },
 "nbformat": 4,
 "nbformat_minor": 0
}

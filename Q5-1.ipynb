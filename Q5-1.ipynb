{
 "cells": [
  {
   "cell_type": "code",
   "execution_count": 9,
   "metadata": {
    "collapsed": false
   },
   "outputs": [],
   "source": [
    "import numpy as np\n",
    "import matplotlib.pyplot as plt\n",
    "\n",
    "fig=plt.figure(figsize=(12,12),facecolor='w')\n",
    "xmin=-2.7; xmax=8.7\n",
    "ymin=-5.7; ymax=5.7\n",
    "\n",
    "plt.subplot(121)\n",
    "plt.xlim([xmin,xmax])\n",
    "plt.ylim([ymin,ymax])\n",
    "plt.quiver(2,1, color='#0000ff',angles='xy',scale_units='xy',scale=1,headwidth=6)\n",
    "plt.quiver(1,-1 , color='#ff0000',angles='xy',scale_units='xy',scale=1,headwidth=6)\n",
    "plt.text(2, 1.2,\"u (x = 1)\",fontsize=20, color='#0000ff')\n",
    "plt.text(1,-1.2,\"v (x = 4)\",fontsize=20, color='#ff0000')\n",
    "plt.xlabel(\"x\",fontsize=20)\n",
    "plt.ylabel(\"y\",fontsize=20)\n",
    "plt.tick_params(labelsize = 20)\n",
    "plt.grid()\n",
    "plt.draw()\n",
    "plt.gca().set_aspect('equal', adjustable='box')\n",
    "plt.savefig('Q5-1-2Ans.eps')\n",
    "plt.show()"
   ]
  },
  {
   "cell_type": "code",
   "execution_count": 8,
   "metadata": {
    "collapsed": false
   },
   "outputs": [],
   "source": [
    "import numpy as np\n",
    "import matplotlib.pyplot as plt\n",
    "\n",
    "fig=plt.figure(figsize=(12,12),facecolor='w')\n",
    "xmin=-2.7; xmax=8.7\n",
    "ymin=-5.7; ymax=5.7\n",
    "\n",
    "plt.subplot(121)\n",
    "plt.xlim([xmin,xmax])\n",
    "plt.ylim([ymin,ymax])\n",
    "plt.quiver(2, 1, color='#0000ff',angles='xy',scale_units='xy',scale=1,headwidth=6)\n",
    "plt.quiver(1,-1 , color='#ff0000',angles='xy',scale_units='xy',scale=1,headwidth=6)\n",
    "plt.quiver(3, 0 , color='#880088',angles='xy',scale_units='xy',scale=1,headwidth=6)\n",
    "plt.quiver(6,-3 , color='#ff00ff',angles='xy',scale_units='xy',scale=1,headwidth=6)\n",
    "plt.plot([4,0],[-4,0], '-', color=\"#880000\")\n",
    "plt.text(1, 2.2,\"u (x = 1)\",fontsize=20, color='#0000ff')\n",
    "plt.text(1,-1.2,\"v (x = 4)\",fontsize=20, color='#ff0000')\n",
    "plt.text(3,0.2,\"u + v\",fontsize=20, color='#880088')\n",
    "plt.text(4,-4.2,\"4 v\",fontsize=20, color='#880000')\n",
    "plt.text(6,-3.2,\"A(u + v)\",fontsize=20, color='#ff00ff')\n",
    "plt.plot([6,4],[-3,-4], ':', color=\"#880000\")\n",
    "plt.plot([6,2],[-3, 1], ':', color=\"#000088\")\n",
    "plt.xlabel(\"x\",fontsize=20)\n",
    "plt.ylabel(\"y\",fontsize=20)\n",
    "plt.tick_params(labelsize = 20)\n",
    "plt.grid()\n",
    "plt.draw()\n",
    "plt.gca().set_aspect('equal', adjustable='box')\n",
    "plt.savefig('Q5-1-3Ans.eps')\n",
    "plt.show()"
   ]
  },
  {
   "cell_type": "code",
   "execution_count": 23,
   "metadata": {
    "collapsed": true
   },
   "outputs": [],
   "source": [
    "import numpy as np\n",
    "import matplotlib.pyplot as plt\n",
    "\n",
    "fig=plt.figure(figsize=(12,12),facecolor='w')\n",
    "xmin=-2.2; xmax=2.2\n",
    "ymin=-2.2; ymax=2.2\n",
    "\n",
    "plt.subplot(121)\n",
    "plt.xlim([xmin,xmax])\n",
    "plt.ylim([ymin,ymax])\n",
    "plt.quiver(1,1, color='#0000ff',angles='xy',scale_units='xy',scale=1,headwidth=6)\n",
    "plt.text(1, 1.2,\"u (x = 2)\",fontsize=20, color='#0000ff')\n",
    "plt.xlabel(\"x\",fontsize=20)\n",
    "plt.ylabel(\"y\",fontsize=20)\n",
    "plt.tick_params(labelsize = 20)\n",
    "plt.grid()\n",
    "plt.draw()\n",
    "plt.gca().set_aspect('equal', adjustable='box')\n",
    "plt.savefig('Q5-2-2Ans.eps')\n",
    "plt.show()"
   ]
  },
  {
   "cell_type": "code",
   "execution_count": 46,
   "metadata": {
    "collapsed": false
   },
   "outputs": [],
   "source": [
    "import numpy as np\n",
    "import matplotlib.pyplot as plt\n",
    "\n",
    "fig=plt.figure(figsize=(12,12),facecolor='w')\n",
    "xmin=-4.2; xmax=2.2\n",
    "ymin=-3.2; ymax=3.2\n",
    "\n",
    "plt.subplot(121)\n",
    "plt.xlim([xmin,xmax])\n",
    "plt.ylim([ymin,ymax])\n",
    "plt.quiver(1,1, color='#0000ff',angles='xy',scale_units='xy',scale=1,headwidth=6)\n",
    "plt.quiver(-1,1 , color='#ff0000',angles='xy',scale_units='xy',scale=1,headwidth=6)\n",
    "plt.quiver(0,2 , color='#880088',angles='xy',scale_units='xy',scale=1,headwidth=6)\n",
    "plt.plot([2,0],[2,0], '-', color=\"#880000\")\n",
    "plt.plot([-4,0],[0,0], '-', color=\"#000088\")\n",
    "plt.quiver(-2,2 , color='#ff00ff',angles='xy',scale_units='xy',scale=1,headwidth=6)\n",
    "plt.text(1, 1.2,\"u (x = 1)\",fontsize=20, color='#0000ff')\n",
    "plt.text(-1,0.4,\"v\",fontsize=20, color='#ff0000')\n",
    "plt.text(0,2.2,\"u + v\",fontsize=20, color='#880088')\n",
    "plt.text(2,2.2,\"2u\" ,fontsize=20, color='#880000')\n",
    "plt.plot([-2,2],[2,2], ':', color=\"#880000\")\n",
    "plt.text(-4,0.2, \"Av\", fontsize=20, color=\"#000088\")\n",
    "plt.plot([-2,-4],[2,0], ':', color=\"#000088\")\n",
    "plt.text(-2,2.2,\"A(u + v)\",fontsize=20, color='#ff00ff')\n",
    "plt.xlabel(\"x\",fontsize=20)\n",
    "plt.ylabel(\"y\",fontsize=20)\n",
    "plt.tick_params(labelsize = 20)\n",
    "plt.grid()\n",
    "plt.draw()\n",
    "plt.gca().set_aspect('equal', adjustable='box')\n",
    "plt.savefig('Q5-2-3Ans.eps')\n",
    "plt.show()"
   ]
  },
  {
   "cell_type": "code",
   "execution_count": 27,
   "metadata": {
    "collapsed": false
   },
   "outputs": [
    {
     "data": {
      "text/plain": [
       "''"
      ]
     },
     "execution_count": 27,
     "metadata": {},
     "output_type": "execute_result"
    }
   ],
   "source": []
  },
  {
   "cell_type": "code",
   "execution_count": null,
   "metadata": {
    "collapsed": true
   },
   "outputs": [],
   "source": []
  }
 ],
 "metadata": {
  "kernelspec": {
   "display_name": "Python 3",
   "language": "python",
   "name": "python3"
  },
  "language_info": {
   "codemirror_mode": {
    "name": "ipython",
    "version": 3
   },
   "file_extension": ".py",
   "mimetype": "text/x-python",
   "name": "python",
   "nbconvert_exporter": "python",
   "pygments_lexer": "ipython3",
   "version": "3.5.2"
  }
 },
 "nbformat": 4,
 "nbformat_minor": 0
}

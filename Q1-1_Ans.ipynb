{
 "cells": [
  {
   "cell_type": "code",
   "execution_count": 1,
   "metadata": {
    "collapsed": false
   },
   "outputs": [],
   "source": [
    "import numpy as np\n",
    "import matplotlib.pyplot as plt\n",
    "\n",
    "fig=plt.figure(figsize=(12,6),facecolor='w')\n",
    "xmin=-2; xmax=10\n",
    "ymin=-8; ymax=5\n",
    "\n",
    "plt.subplot(121)\n",
    "plt.xlim([xmin,xmax])\n",
    "plt.ylim([ymin,ymax])\n",
    "plt.quiver(2,-1, color='#0000ff',angles='xy',scale_units='xy',scale=1,headwidth=6)\n",
    "plt.quiver(4,-2, color='#ff0000',angles='xy',scale_units='xy',scale=1,width=0.005,headwidth=6)\n",
    "plt.text(2,-1,\"a\",fontsize=20, color='#0000ff')\n",
    "plt.text(4,-2,\"2a\",fontsize=20, color='#ff0000')\n",
    "plt.xlabel(\"x\",fontsize=20)\n",
    "plt.ylabel(\"y\",fontsize=20)\n",
    "plt.tick_params(labelsize = 20)\n",
    "plt.subplots_adjust(left=0.07, right=0.99, top=0.99, bottom=0.1)\n",
    "plt.grid()\n",
    "plt.draw()\n",
    "plt.gca().set_aspect('equal', adjustable='box')\n",
    "plt.savefig('Q1-1Ans.eps')\n",
    "plt.show()"
   ]
  },
  {
   "cell_type": "code",
   "execution_count": 4,
   "metadata": {
    "collapsed": false
   },
   "outputs": [],
   "source": [
    "import numpy as np\n",
    "import matplotlib.pyplot as plt\n",
    "\n",
    "fig=plt.figure(figsize=(12,6),facecolor='w')\n",
    "xmin=-2; xmax=10\n",
    "ymin=-8; ymax=5\n",
    "\n",
    "plt.subplot(121)\n",
    "plt.xlim([xmin,xmax])\n",
    "plt.ylim([ymin,ymax])\n",
    "plt.quiver(2,-1, color='#0000ff',angles='xy',scale_units='xy',scale=1,headwidth=6)\n",
    "plt.quiver(4,-2, color='#000088',angles='xy',scale_units='xy',scale=1,width=0.005,headwidth=6)\n",
    "plt.quiver(1, 3, color='#00ff00',angles='xy',scale_units='xy',scale=1,width=0.005,headwidth=6)\n",
    "plt.quiver(5,1, color='#ff0000',angles='xy',scale_units='xy',scale=1,width=0.005,headwidth=6)\n",
    "plt.plot([4,5],[-2,1], linestyle=':')\n",
    "plt.plot([1,5],[3,1], linestyle=':')\n",
    "plt.text(2,-1,\"a\",fontsize=20, color='#0000ff')\n",
    "plt.text(4,-2,\"2a\",fontsize=20, color='#000088')\n",
    "plt.text(1,3,\"b\",fontsize=20, color='#00ff00')\n",
    "plt.text(5,1,\"2a+b\",fontsize=20, color='#ff0000')\n",
    "plt.xlabel(\"x\",fontsize=20)\n",
    "plt.ylabel(\"y\",fontsize=20)\n",
    "plt.tick_params(labelsize = 20)\n",
    "plt.grid()\n",
    "plt.draw()\n",
    "plt.gca().set_aspect('equal', adjustable='box')\n",
    "plt.savefig('Q1-2Ans.eps')\n",
    "plt.show()"
   ]
  },
  {
   "cell_type": "code",
   "execution_count": 3,
   "metadata": {
    "collapsed": false
   },
   "outputs": [],
   "source": [
    "import numpy as np\n",
    "import matplotlib.pyplot as plt\n",
    "\n",
    "fig=plt.figure(figsize=(12,6),facecolor='w')\n",
    "xmin=-5; xmax=5\n",
    "ymin=-5; ymax=5\n",
    "\n",
    "plt.subplot(121)\n",
    "plt.xlim([xmin,xmax])\n",
    "plt.ylim([ymin,ymax])\n",
    "plt.quiver(2,-1, color='#0000ff',angles='xy',scale_units='xy',scale=1,headwidth=6)\n",
    "plt.quiver(4,-2, color='#00ff00',angles='xy',scale_units='xy',scale=1,width=0.005,headwidth=6)\n",
    "plt.quiver((1*2/np.sqrt(2**2+1**2)+3*-1/np.sqrt(2**2+1**2))*2/np.sqrt(2**2+1**2),(1*2/np.sqrt(2**2+1**2)+3*-1/np.sqrt(2**2+1**2))*-1/np.sqrt(2**2+1**2), color='#00ffff',angles='xy',scale_units='xy',scale=1,width=0.005,headwidth=6)\n",
    "plt.text(2,-1,\"a\",fontsize=20, color='#0000ff')\n",
    "plt.text(1,3,\"b\",fontsize=20, color='#00ff00')\n",
    "plt.text((1*2/np.sqrt(2**2+1**2)+3*-1/np.sqrt(2**2+1**2))*2/np.sqrt(2**2+1**2),(1*2/np.sqrt(2**2+1**2)+3*-1/np.sqrt(2**2+1**2))*-1/np.sqrt(2**2+1**2),\"(b, a)a/|a|^2\",fontsize=20, color='#00ffff')\n",
    "plt.xlabel(\"x\",fontsize=20)\n",
    "plt.ylabel(\"y\",fontsize=20)\n",
    "plt.tick_params(labelsize = 20)\n",
    "plt.subplots_adjust(left=0.07, right=0.99, top=0.99, bottom=0.1)\n",
    "plt.grid()\n",
    "plt.draw()\n",
    "plt.gca().set_aspect('equal', adjustable='box')\n",
    "plt.savefig('Q1-3Ans.eps')\n",
    "plt.show()"
   ]
  },
  {
   "cell_type": "code",
   "execution_count": null,
   "metadata": {
    "collapsed": true
   },
   "outputs": [],
   "source": []
  }
 ],
 "metadata": {
  "kernelspec": {
   "display_name": "Python 3",
   "language": "python",
   "name": "python3"
  },
  "language_info": {
   "codemirror_mode": {
    "name": "ipython",
    "version": 3
   },
   "file_extension": ".py",
   "mimetype": "text/x-python",
   "name": "python",
   "nbconvert_exporter": "python",
   "pygments_lexer": "ipython3",
   "version": "3.5.2"
  }
 },
 "nbformat": 4,
 "nbformat_minor": 0
}

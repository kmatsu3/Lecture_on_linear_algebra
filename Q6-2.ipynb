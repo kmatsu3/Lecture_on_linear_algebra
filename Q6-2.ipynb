{
 "cells": [
  {
   "cell_type": "code",
   "execution_count": 19,
   "metadata": {
    "collapsed": true
   },
   "outputs": [],
   "source": [
    "import numpy as np\n",
    "import matplotlib.pyplot as plt\n",
    "\n",
    "fig=plt.figure(figsize=(12,12),facecolor='w')\n",
    "xmin=-2.7; xmax=2.7\n",
    "ymin=-2.7; ymax=2.7\n",
    "\n",
    "plt.subplot(121)\n",
    "plt.xlim([xmin,xmax])\n",
    "plt.ylim([ymin,ymax])\n",
    "plt.quiver(1, -1, color='#0000ff',angles='xy',scale_units='xy',scale=1,headwidth=6)\n",
    "plt.quiver(1, 1 , color='#ff0000',angles='xy',scale_units='xy',scale=1,headwidth=6)\n",
    "plt.text(1, -1.2,\"u (x = 1)\",fontsize=20, color='#0000ff')\n",
    "plt.text(1, 1.2,\"v (x = 3)\",fontsize=20, color='#ff0000')\n",
    "plt.xlabel(\"x\",fontsize=20)\n",
    "plt.ylabel(\"y\",fontsize=20)\n",
    "plt.tick_params(labelsize = 20)\n",
    "plt.grid()\n",
    "plt.draw()\n",
    "plt.gca().set_aspect('equal', adjustable='box')\n",
    "plt.savefig('Q6-2-2Ans.eps')\n",
    "plt.show()"
   ]
  },
  {
   "cell_type": "code",
   "execution_count": 20,
   "metadata": {
    "collapsed": false
   },
   "outputs": [],
   "source": [
    "import numpy as np\n",
    "import matplotlib.pyplot as plt\n",
    "\n",
    "fig=plt.figure(figsize=(12,12),facecolor='w')\n",
    "xmin=-2.7; xmax=2.7\n",
    "ymin=-2.7; ymax=2.7\n",
    "\n",
    "plt.subplot(121)\n",
    "plt.xlim([xmin,xmax])\n",
    "plt.ylim([ymin,ymax])\n",
    "plt.quiver(1, -1, color='#0000ff',angles='xy',scale_units='xy',scale=1,headwidth=6)\n",
    "plt.quiver(1, 1, color='#ff0000',angles='xy',scale_units='xy',scale=1,headwidth=6)\n",
    "plt.quiver(-1.5, 1.5, color='#880000',angles='xy',scale_units='xy',scale=1,headwidth=6)\n",
    "plt.quiver(-0.5, -0.5, color='#880000',angles='xy',scale_units='xy',scale=1,headwidth=6)\n",
    "plt.quiver(-2, 1 , color='#00ff00',angles='xy',scale_units='xy',scale=1,headwidth=6)\n",
    "plt.text(1, -1.2,\"u (x = 2)\",fontsize=20, color='#0000ff')\n",
    "plt.text(-1.5, 1.7,\"-3u/2\",fontsize=20, color='#000088')\n",
    "plt.text(1, 1.2,\"v (x = 3)\",fontsize=20, color='#ff0000')\n",
    "plt.text(-0.7, -0.7,\"-v/2\",fontsize=20, color='#880000')\n",
    "plt.text(-2, 1.2,\"a\",fontsize=20, color='#00ff00')\n",
    "plt.plot([-1.5, -2],[1.5, 1], ':', color=\"#000088\")\n",
    "plt.plot([-0.5, -2],[-0.5, 1], ':', color=\"#880000\")\n",
    "plt.xlabel(\"x\",fontsize=20)\n",
    "plt.ylabel(\"y\",fontsize=20)\n",
    "plt.tick_params(labelsize = 20)\n",
    "plt.grid()\n",
    "plt.draw()\n",
    "plt.gca().set_aspect('equal', adjustable='box')\n",
    "plt.savefig('Q6-2-3Ans.eps')\n",
    "plt.show()"
   ]
  },
  {
   "cell_type": "code",
   "execution_count": null,
   "metadata": {
    "collapsed": true
   },
   "outputs": [],
   "source": []
  },
  {
   "cell_type": "code",
   "execution_count": 21,
   "metadata": {
    "collapsed": true
   },
   "outputs": [],
   "source": [
    "import numpy as np\n",
    "import matplotlib.pyplot as plt\n",
    "\n",
    "fig=plt.figure(figsize=(12,12),facecolor='w')\n",
    "xmin=-3.7; xmax=1.7\n",
    "ymin=-2.7; ymax=2.7\n",
    "\n",
    "plt.subplot(121)\n",
    "plt.xlim([xmin,xmax])\n",
    "plt.ylim([ymin,ymax])\n",
    "plt.quiver(1, -1, color='#0000ff',angles='xy',scale_units='xy',scale=1,headwidth=6)\n",
    "plt.quiver(1, 1, color='#ff0000',angles='xy',scale_units='xy',scale=1,headwidth=6)\n",
    "plt.quiver(-1.5, 1.5, color='#880000',angles='xy',scale_units='xy',scale=1,headwidth=6)\n",
    "plt.quiver(-1.5, -1.5, color='#880000',angles='xy',scale_units='xy',scale=1,headwidth=6)\n",
    "plt.quiver(-2, 1 , color='#00ff00',angles='xy',scale_units='xy',scale=1,headwidth=6)\n",
    "plt.quiver(-3, 0 , color='#008800',angles='xy',scale_units='xy',scale=1,headwidth=6)\n",
    "plt.text(1, -1.2,\"u\",fontsize=20, color='#0000ff')\n",
    "plt.text(-1.5, 1.7,\"-3u/2\",fontsize=20, color='#000088')\n",
    "plt.text(1, 1.2,\"v\",fontsize=20, color='#ff0000')\n",
    "plt.text(-1.5, -1.7,\"-3v/2\",fontsize=20, color='#880000')\n",
    "plt.text(-2, 1.2,\"a\",fontsize=20, color='#00ff00')\n",
    "plt.text(-3.5, 0,\"Aa\",fontsize=20, color='#008800')\n",
    "plt.plot([-1.5, -3],[1.5, 0], ':', color=\"#000088\")\n",
    "plt.plot([-1.5, -3],[-1.5, 0], ':', color=\"#880000\")\n",
    "plt.xlabel(\"x\",fontsize=20)\n",
    "plt.ylabel(\"y\",fontsize=20)\n",
    "plt.tick_params(labelsize = 20)\n",
    "plt.grid()\n",
    "plt.draw()\n",
    "plt.gca().set_aspect('equal', adjustable='box')\n",
    "plt.savefig('Q6-2-4Ans.eps')\n",
    "plt.show()"
   ]
  },
  {
   "cell_type": "code",
   "execution_count": null,
   "metadata": {
    "collapsed": true
   },
   "outputs": [],
   "source": []
  }
 ],
 "metadata": {
  "kernelspec": {
   "display_name": "Python 3",
   "language": "python",
   "name": "python3"
  },
  "language_info": {
   "codemirror_mode": {
    "name": "ipython",
    "version": 3
   },
   "file_extension": ".py",
   "mimetype": "text/x-python",
   "name": "python",
   "nbconvert_exporter": "python",
   "pygments_lexer": "ipython3",
   "version": "3.5.2"
  }
 },
 "nbformat": 4,
 "nbformat_minor": 0
}

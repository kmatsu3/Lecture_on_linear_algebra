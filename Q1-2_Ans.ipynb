{
 "cells": [
  {
   "cell_type": "code",
   "execution_count": 89,
   "metadata": {
    "collapsed": false
   },
   "outputs": [],
   "source": [
    "from mpl_toolkits.mplot3d import Axes3D\n",
    "import matplotlib.pyplot as plt\n",
    "import numpy as np\n",
    "\n",
    "#範囲と間隔の設定\n",
    "fig = plt.figure()\n",
    "ax = Axes3D(fig)\n",
    "\n",
    "\n",
    "LX, LY, LZ = 5,5,5  # xyzメッシュのパラメータ\n",
    "gridwidth=1.0 # \n",
    "\n",
    "ax.quiver(0, 0, 0, 2, -1, 1, color='blue', pivot='tail', length=np.sqrt(2**2+1**2+1), arrow_length_ratio=0.2)\n",
    "ax.text(2,-1,1,\"a\",fontsize=20, color='blue')\n",
    "ax.quiver(0, 0, 0, 4, -2, 2, color='#000088', pivot='tail', length=np.sqrt(4**2+2**2+2**2), arrow_length_ratio=0.1)\n",
    "ax.text(4,-2,2,\"2a\",fontsize=20, color='#000088')\n",
    "ax.plot([5, 4], [1, -2], [3, 2], ':')\n",
    "ax.quiver(0, 0, 0, 1, 3, 1, color='green', pivot='tail', length=np.sqrt(1**2+3**2+1), arrow_length_ratio=0.2)\n",
    "ax.text(1,3,1,\"b\",fontsize=20, color='green')\n",
    "ax.plot([5, 1], [1, 3], [3, 1], ':')\n",
    "ax.quiver(0, 0, 0, 5, 1, 3, color='red', pivot='tail', length=np.sqrt(5**2+1**2+3**2), arrow_length_ratio=0.1)\n",
    "ax.text(5,1,3,\"2a+b\",fontsize=20, color='red')\n",
    "\n",
    "ax.set_xlim([-LX, LX])\n",
    "ax.set_ylim([-LY, LY])\n",
    "ax.set_zlim([-LZ, LZ])\n",
    "ax.set_xlabel('x',fontsize =20)\n",
    "ax.set_ylabel('y',fontsize =20)\n",
    "ax.set_zlabel('z',fontsize =20)\n",
    "plt.tick_params(labelsize = 20)\n",
    "ax.set_aspect('equal')\n",
    "ax.view_init(40.0, -50.0)\n",
    "plt.savefig('Q2-1Ans.eps')\n",
    "\n",
    "plt.show()\n"
   ]
  },
  {
   "cell_type": "code",
   "execution_count": 95,
   "metadata": {
    "collapsed": true
   },
   "outputs": [],
   "source": [
    "from mpl_toolkits.mplot3d import Axes3D\n",
    "import matplotlib.pyplot as plt\n",
    "import numpy as np\n",
    "\n",
    "#範囲と間隔の設定\n",
    "fig = plt.figure()\n",
    "ax = Axes3D(fig)\n",
    "\n",
    "\n",
    "LX, LY, LZ = 8,8,8  # xyzメッシュのパラメータ\n",
    "gridwidth=1.0 # \n",
    "\n",
    "ax.quiver(0, 0, 0, 2, -1, 1, color='blue', pivot='tail', length=np.sqrt(2**2+1**2+1), arrow_length_ratio=0.2)\n",
    "ax.text(2,-1,1,\"a\",fontsize=20, color='blue')\n",
    "ax.quiver(0, 0, 0, 1, 3, 1, color='green', pivot='tail', length=np.sqrt(1**2+3**2+1), arrow_length_ratio=0.2)\n",
    "ax.text(1,3,1,\"b\",fontsize=20, color='green')\n",
    "ax.quiver(0, 0, 0, -4, -1, 7, color='red', pivot='tail', length=np.sqrt(4**2+1**2+7**2), arrow_length_ratio=0.05)\n",
    "ax.text(-4,-1,7,\"axb\",fontsize=20, color='red')\n",
    "\n",
    "ax.set_xlim([-LX, LX])\n",
    "ax.set_ylim([-LY, LY])\n",
    "ax.set_zlim([-LZ, LZ])\n",
    "ax.set_xlabel('x',fontsize =20)\n",
    "ax.set_ylabel('y',fontsize =20)\n",
    "ax.set_zlabel('z',fontsize =20)\n",
    "plt.tick_params(labelsize = 20)\n",
    "ax.set_aspect('equal')\n",
    "ax.view_init(30.0, -60.0)\n",
    "plt.savefig('Q2-3Ans.eps')\n",
    "\n",
    "plt.show()\n"
   ]
  },
  {
   "cell_type": "code",
   "execution_count": null,
   "metadata": {
    "collapsed": true
   },
   "outputs": [],
   "source": []
  },
  {
   "cell_type": "code",
   "execution_count": null,
   "metadata": {
    "collapsed": true
   },
   "outputs": [],
   "source": []
  }
 ],
 "metadata": {
  "kernelspec": {
   "display_name": "Python 3",
   "language": "python",
   "name": "python3"
  },
  "language_info": {
   "codemirror_mode": {
    "name": "ipython",
    "version": 3
   },
   "file_extension": ".py",
   "mimetype": "text/x-python",
   "name": "python",
   "nbconvert_exporter": "python",
   "pygments_lexer": "ipython3",
   "version": "3.5.2"
  }
 },
 "nbformat": 4,
 "nbformat_minor": 0
}
